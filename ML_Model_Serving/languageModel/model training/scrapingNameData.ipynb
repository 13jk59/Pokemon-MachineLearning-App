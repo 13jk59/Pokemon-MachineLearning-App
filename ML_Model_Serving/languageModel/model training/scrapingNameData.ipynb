{
 "metadata": {
  "language_info": {
   "codemirror_mode": {
    "name": "ipython",
    "version": 3
   },
   "file_extension": ".py",
   "mimetype": "text/x-python",
   "name": "python",
   "nbconvert_exporter": "python",
   "pygments_lexer": "ipython3",
   "version": "3.8.3-final"
  },
  "orig_nbformat": 2,
  "kernelspec": {
   "name": "Python 3.8.3 64-bit",
   "display_name": "Python 3.8.3 64-bit",
   "metadata": {
    "interpreter": {
     "hash": "082e9a3bcad0a290d0001e938aa60b99250c6c2ef33a923c00b70f9826caf4b7"
    }
   }
  }
 },
 "nbformat": 4,
 "nbformat_minor": 2,
 "cells": [
  {
   "cell_type": "code",
   "execution_count": 1,
   "metadata": {},
   "outputs": [],
   "source": [
    "import requests\n",
    "from bs4 import BeautifulSoup"
   ]
  },
  {
   "cell_type": "code",
   "execution_count": 2,
   "metadata": {},
   "outputs": [],
   "source": [
    "pokemonHomeURL = \"https://bulbapedia.bulbagarden.net/wiki/List_of_Pok%C3%A9mon_by_name\""
   ]
  },
  {
   "cell_type": "code",
   "execution_count": 3,
   "metadata": {},
   "outputs": [],
   "source": [
    "HTML_Content = requests.get(pokemonHomeURL)"
   ]
  },
  {
   "cell_type": "code",
   "execution_count": 30,
   "metadata": {},
   "outputs": [],
   "source": [
    "soupObj = BeautifulSoup(HTML_Content.content, 'html.parser')"
   ]
  },
  {
   "cell_type": "code",
   "execution_count": 31,
   "metadata": {},
   "outputs": [
    {
     "output_type": "execute_result",
     "data": {
      "text/plain": [
       "['roundy']"
      ]
     },
     "metadata": {},
     "execution_count": 31
    }
   ],
   "source": [
    "soupObj.table['class']"
   ]
  },
  {
   "cell_type": "code",
   "execution_count": 156,
   "metadata": {},
   "outputs": [],
   "source": [
    "# two ways shown to get the required names out\n",
    "tablesWithNames = soupObj.find_all(lambda tag: tag.name == 'table'  and tag.has_attr('class') and tag['class'] == ['roundy'])\n",
    "practice = [] "
   ]
  },
  {
   "cell_type": "code",
   "execution_count": 157,
   "metadata": {
    "tags": []
   },
   "outputs": [],
   "source": [
    "#extract the names of every pokemon from the tables\n",
    "for table in tablesWithNames:\n",
    "    allChildTags = table.findChildren(lambda tag: tag.name == 'a' and tag.has_attr('title') and '(Pokémon)' in tag['title'])\n",
    "    for td_tag_containingPokeName in allChildTags:\n",
    "        practice.append(td_tag_containingPokeName.contents[0])\n"
   ]
  },
  {
   "cell_type": "code",
   "execution_count": 173,
   "metadata": {},
   "outputs": [],
   "source": [
    "allPoke = soupObj.find_all(lambda tag: tag.name == 'a'  and tag.has_attr('title') and '(Pokémon)' in tag['title'] and tag.parent.name == 'td')\n",
    "listAllNames = [] "
   ]
  },
  {
   "cell_type": "code",
   "execution_count": 174,
   "metadata": {},
   "outputs": [],
   "source": [
    "for name in allPoke:\n",
    "    listAllNames.append(name.contents[0])"
   ]
  },
  {
   "cell_type": "code",
   "execution_count": 176,
   "metadata": {},
   "outputs": [],
   "source": [
    "with open('pokemonNames.txt', 'w') as pokeNames:\n",
    "    for name in listAllNames:\n",
    "        pokeNames.write(\"%s\\n\"%(name))"
   ]
  }
 ]
}