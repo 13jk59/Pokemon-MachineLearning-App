{
 "metadata": {
  "language_info": {
   "codemirror_mode": {
    "name": "ipython",
    "version": 3
   },
   "file_extension": ".py",
   "mimetype": "text/x-python",
   "name": "python",
   "nbconvert_exporter": "python",
   "pygments_lexer": "ipython3",
   "version": "3.8.3-final"
  },
  "orig_nbformat": 2,
  "kernelspec": {
   "name": "Python 3.8.3 64-bit",
   "display_name": "Python 3.8.3 64-bit",
   "metadata": {
    "interpreter": {
     "hash": "082e9a3bcad0a290d0001e938aa60b99250c6c2ef33a923c00b70f9826caf4b7"
    }
   }
  }
 },
 "nbformat": 4,
 "nbformat_minor": 2,
 "cells": [
  {
   "cell_type": "code",
   "execution_count": 1,
   "metadata": {},
   "outputs": [],
   "source": [
    "import requests\n",
    "from bs4 import BeautifulSoup"
   ]
  },
  {
   "cell_type": "code",
   "execution_count": 14,
   "metadata": {},
   "outputs": [],
   "source": [
    "pokemonHomeURL = \"https://pokemon.fandom.com/wiki/List_of_Pok%C3%A9mon\""
   ]
  },
  {
   "cell_type": "code",
   "execution_count": 15,
   "metadata": {},
   "outputs": [],
   "source": [
    "HTML_Content = requests.get(pokemonHomeURL)"
   ]
  },
  {
   "cell_type": "code",
   "execution_count": 16,
   "metadata": {},
   "outputs": [],
   "source": [
    "soupObj = BeautifulSoup(HTML_Content.content, 'html.parser')"
   ]
  },
  {
   "source": [
    "anchorTagsWithNames = soupObj.find_all(lambda tag: tag.name == 'a' and not tag.has_attr('class') and not tag.has_attr('id') and tag.parent.name == 'td' and tag.has_attr('href') and '/wiki' in tag['href'])"
   ],
   "cell_type": "code",
   "metadata": {},
   "execution_count": 23,
   "outputs": []
  },
  {
   "cell_type": "code",
   "execution_count": 37,
   "metadata": {},
   "outputs": [],
   "source": [
    "listAllNames = []\n",
    "for name in anchorTagsWithNames:\n",
    "    listAllNames.append(name.contents[0])\n",
    "listAllNames.sort()"
   ]
  },
  {
   "cell_type": "code",
   "execution_count": 38,
   "metadata": {},
   "outputs": [],
   "source": [
    "with open('pokemonNames.txt', 'w') as pokeNames:\n",
    "    for name in listAllNames:\n",
    "        pokeNames.write(\"%s\\n\"%(name))"
   ]
  }
 ]
}