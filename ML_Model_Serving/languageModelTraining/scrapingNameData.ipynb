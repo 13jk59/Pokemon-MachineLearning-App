{
 "metadata": {
  "language_info": {
   "codemirror_mode": {
    "name": "ipython",
    "version": 3
   },
   "file_extension": ".py",
   "mimetype": "text/x-python",
   "name": "python",
   "nbconvert_exporter": "python",
   "pygments_lexer": "ipython3",
   "version": "3.8.3-final"
  },
  "orig_nbformat": 2,
  "kernelspec": {
   "name": "Python 3.8.3 64-bit",
   "display_name": "Python 3.8.3 64-bit",
   "metadata": {
    "interpreter": {
     "hash": "082e9a3bcad0a290d0001e938aa60b99250c6c2ef33a923c00b70f9826caf4b7"
    }
   }
  }
 },
 "nbformat": 4,
 "nbformat_minor": 2,
 "cells": [
  {
   "cell_type": "code",
   "execution_count": 1,
   "metadata": {},
   "outputs": [],
   "source": [
    "import requests\n",
    "from bs4 import BeautifulSoup"
   ]
  },
  {
   "cell_type": "code",
   "execution_count": 2,
   "metadata": {},
   "outputs": [],
   "source": [
    "pokemonHomeURL = \"https://bulbapedia.bulbagarden.net/wiki/List_of_Pok%C3%A9mon_by_name\""
   ]
  },
  {
   "cell_type": "code",
   "execution_count": 3,
   "metadata": {},
   "outputs": [],
   "source": [
    "HTML_Content = requests.get(pokemonHomeURL)"
   ]
  },
  {
   "cell_type": "code",
   "execution_count": 30,
   "metadata": {},
   "outputs": [],
   "source": [
    "soupObj = BeautifulSoup(HTML_Content.content, 'html.parser')"
   ]
  },
  {
   "cell_type": "code",
   "execution_count": 31,
   "metadata": {},
   "outputs": [
    {
     "output_type": "execute_result",
     "data": {
      "text/plain": [
       "['roundy']"
      ]
     },
     "metadata": {},
     "execution_count": 31
    }
   ],
   "source": [
    "soupObj.table['class']"
   ]
  },
  {
   "cell_type": "code",
   "execution_count": 156,
   "metadata": {},
   "outputs": [],
   "source": [
    "# two ways shown to get the required names out\n",
    "tablesWithNames = soupObj.find_all(lambda tag: tag.name == 'table'  and tag.has_attr('class') and tag['class'] == ['roundy'])\n",
    "practice = [] "
   ]
  },
  {
   "cell_type": "code",
   "execution_count": 157,
   "metadata": {
    "tags": []
   },
   "outputs": [],
   "source": [
    "#extract the names of every pokemon from the tables\n",
    "for table in tablesWithNames:\n",
    "    allChildTags = table.findChildren(lambda tag: tag.name == 'a' and tag.has_attr('title') and '(Pokémon)' in tag['title'])\n",
    "    for td_tag_containingPokeName in allChildTags:\n",
    "        practice.append(td_tag_containingPokeName.contents[0])\n"
   ]
  },
  {
   "cell_type": "code",
   "execution_count": 162,
   "metadata": {},
   "outputs": [],
   "source": [
    "allPoke = soupObj.find_all(lambda tag: tag.name == 'a'  and tag.has_attr('title') and '(Pokémon)' in tag['title'] and tag.parent.name == 'td')"
   ]
  },
  {
   "cell_type": "code",
   "execution_count": 164,
   "metadata": {},
   "outputs": [
    {
     "output_type": "stream",
     "name": "stdout",
     "text": [
      "Abomasnow\nAbra\nAbsol\nAccelgor\nAegislash\nAerodactyl\nAggron\nAipom\nAlakazam\nAlcremie\nAlomomola\nAltaria\nAmaura\nAmbipom\nAmoonguss\nAmpharos\nAnorith\nAppletun\nApplin\nAraquanid\nArbok\nArcanine\nArceus\nArchen\nArcheops\nArctovish\nArctozolt\nAriados\nArmaldo\nAromatisse\nAron\nArrokuda\nArticuno\nAudino\nAurorus\nAvalugg\nAxew\nAzelf\nAzumarill\nAzurill\nBagon\nBaltoy\nBanette\nBarbaracle\nBarboach\nBarraskewda\nBasculin\nBastiodon\nBayleef\nBeartic\nBeautifly\nBeedrill\nBeheeyem\nBeldum\nBellossom\nBellsprout\nBergmite\nBewear\nBibarel\nBidoof\nBinacle\nBisharp\nBlacephalon\nBlastoise\nBlaziken\nBlipbug\nBlissey\nBlitzle\nBoldore\nBoltund\nBonsly\nBouffalant\nBounsweet\nBraixen\nBraviary\nBreloom\nBrionne\nBronzong\nBronzor\nBruxish\nBudew\nBuizel\nBulbasaur\nBuneary\nBunnelby\nBurmy\nButterfree\nBuzzwole\nCacnea\nCacturne\nCalyrex\nCamerupt\nCarbink\nCarkol\nCarnivine\nCarracosta\nCarvanha\nCascoon\nCastform\nCaterpie\nCelebi\nCelesteela\nCentiskorch\nChandelure\nChansey\nCharizard\nCharjabug\nCharmander\nCharmeleon\nChatot\nCherrim\nCherubi\nChesnaught\nChespin\nChewtle\nChikorita\nChimchar\nChimecho\nChinchou\nChingling\nCinccino\nCinderace\nClamperl\nClauncher\nClawitzer\nClaydol\nClefable\nClefairy\nCleffa\nClobbopus\nCloyster\nCoalossal\nCobalion\nCofagrigus\nCombee\nCombusken\nComfey\nConkeldurr\nCopperajah\nCorphish\nCorsola\nCorviknight\nCorvisquire\nCosmoem\nCosmog\nCottonee\nCrabominable\nCrabrawler\nCradily\nCramorant\nCranidos\nCrawdaunt\nCresselia\nCroagunk\nCrobat\nCroconaw\nCrustle\nCryogonal\nCubchoo\nCubone\nCufant\nCursola\nCutiefly\nCyndaquil\nDarkrai\nDarmanitan\nDartrix\nDarumaka\nDecidueye\nDedenne\nDeerling\nDeino\nDelcatty\nDelibird\nDelphox\nDeoxys\nDewgong\nDewott\nDewpider\nDhelmise\nDialga\nDiancie\nDiggersby\nDiglett\nDitto\nDodrio\nDoduo\nDonphan\nDottler\nDoublade\nDracovish\nDracozolt\nDragalge\nDragapult\nDragonair\nDragonite\nDrakloak\nDrampa\nDrapion\nDratini\nDrednaw\nDreepy\nDrifblim\nDrifloon\nDrilbur\nDrizzile\nDrowzee\nDruddigon\nDubwool\nDucklett\nDugtrio\nDunsparce\nDuosion\nDuraludon\nDurant\nDusclops\nDusknoir\nDuskull\nDustox\nDwebble\nEelektrik\nEelektross\nEevee\nEiscue\nEkans\nEldegoss\nElectabuzz\nElectivire\nElectrike\nElectrode\nElekid\nElgyem\nEmboar\nEmolga\nEmpoleon\nEntei\nEscavalier\nEspeon\nEspurr\nEternatus\nExcadrill\nExeggcute\nExeggutor\nExploud\nFalinks\nFarfetch'd\nFearow\nFeebas\nFennekin\nFeraligatr\nFerroseed\nFerrothorn\nFinneon\nFlaaffy\nFlabébé\nFlapple\nFlareon\nFletchinder\nFletchling\nFloatzel\nFloette\nFlorges\nFlygon\nFomantis\nFoongus\nForretress\nFraxure\nFrillish\nFroakie\nFrogadier\nFroslass\nFrosmoth\nFurfrou\nFurret\nGabite\nGallade\nGalvantula\nGarbodor\nGarchomp\nGardevoir\nGastly\nGastrodon\nGenesect\nGengar\nGeodude\nGible\nGigalith\nGirafarig\nGiratina\nGlaceon\nGlalie\nGlameow\nGlastrier\nGligar\nGliscor\nGloom\nGogoat\nGolbat\nGoldeen\nGolduck\nGolem\nGolett\nGolisopod\nGolurk\nGoodra\nGoomy\nGorebyss\nGossifleur\nGothita\nGothitelle\nGothorita\nGourgeist\nGranbull\nGrapploct\nGraveler\nGreedent\nGreninja\nGrimer\nGrimmsnarl\nGrookey\nGrotle\nGroudon\nGrovyle\nGrowlithe\nGrubbin\nGrumpig\nGulpin\nGumshoos\nGurdurr\nGuzzlord\nGyarados\nHakamo-o\nHappiny\nHariyama\nHatenna\nHatterene\nHattrem\nHaunter\nHawlucha\nHaxorus\nHeatmor\nHeatran\nHeliolisk\nHelioptile\nHeracross\nHerdier\nHippopotas\nHippowdon\nHitmonchan\nHitmonlee\nHitmontop\nHo-Oh\nHonchkrow\nHonedge\nHoopa\nHoothoot\nHoppip\nHorsea\nHoundoom\nHoundour\nHuntail\nHydreigon\nHypno\nIgglybuff\nIllumise\nImpidimp\nIncineroar\nIndeedee\nInfernape\nInkay\nInteleon\nIvysaur\nJangmo-o\nJellicent\nJigglypuff\nJirachi\nJolteon\nJoltik\nJumpluff\nJynx\nKabuto\nKabutops\nKadabra\nKakuna\nKangaskhan\nKarrablast\nKartana\nKecleon\nKeldeo\nKingdra\nKingler\nKirlia\nKlang\nKlefki\nKlink\nKlinklang\nKoffing\nKomala\nKommo-o\nKrabby\nKricketot\nKricketune\nKrokorok\nKrookodile\nKubfu\nKyogre\nKyurem\nLairon\nLampent\nLandorus\nLanturn\nLapras\nLarvesta\nLarvitar\nLatias\nLatios\nLeafeon\nLeavanny\nLedian\nLedyba\nLickilicky\nLickitung\nLiepard\nLileep\nLilligant\nLillipup\nLinoone\nLitleo\nLitten\nLitwick\nLombre\nLopunny\nLotad\nLoudred\nLucario\nLudicolo\nLugia\nLumineon\nLunala\nLunatone\nLurantis\nLuvdisc\nLuxio\nLuxray\nLycanroc\nMachamp\nMachoke\nMachop\nMagby\nMagcargo\nMagearna\nMagikarp\nMagmar\nMagmortar\nMagnemite\nMagneton\nMagnezone\nMakuhita\nMalamar\nMamoswine\nManaphy\nMandibuzz\nManectric\nMankey\nMantine\nMantyke\nMaractus\nMareanie\nMareep\nMarill\nMarowak\nMarshadow\nMarshtomp\nMasquerain\nMawile\nMedicham\nMeditite\nMeganium\nMelmetal\nMeloetta\nMeltan\nMeowstic\nMeowth\nMesprit\nMetagross\nMetang\nMetapod\nMew\nMewtwo\nMienfoo\nMienshao\nMightyena\nMilcery\nMilotic\nMiltank\nMime Jr.\nMimikyu\nMinccino\nMinior\nMinun\nMisdreavus\nMismagius\nMoltres\nMonferno\nMorelull\nMorgrem\nMorpeko\nMothim\nMr. Mime\nMr. Rime\nMudbray\nMudkip\nMudsdale\nMuk\nMunchlax\nMunna\nMurkrow\nMusharna\nNaganadel\nNatu\nNecrozma\nNickit\nNidoking\nNidoqueen\nNidoran♀\nNidoran♂\nNidorina\nNidorino\nNihilego\nNincada\nNinetales\nNinjask\nNoctowl\nNoibat\nNoivern\nNosepass\nNumel\nNuzleaf\nObstagoon\nOctillery\nOddish\nOmanyte\nOmastar\nOnix\nOranguru\nOrbeetle\nOricorio\nOshawott\nPachirisu\nPalkia\nPalossand\nPalpitoad\nPancham\nPangoro\nPanpour\nPansage\nPansear\nParas\nParasect\nPassimian\nPatrat\nPawniard\nPelipper\nPerrserker\nPersian\nPetilil\nPhanpy\nPhantump\nPheromosa\nPhione\nPichu\nPidgeot\nPidgeotto\nPidgey\nPidove\nPignite\nPikachu\nPikipek\nPiloswine\nPincurchin\nPineco\nPinsir\nPiplup\nPlusle\nPoipole\nPolitoed\nPoliwag\nPoliwhirl\nPoliwrath\nPolteageist\nPonyta\nPoochyena\nPopplio\nPorygon\nPorygon-Z\nPorygon2\nPrimarina\nPrimeape\nPrinplup\nProbopass\nPsyduck\nPumpkaboo\nPupitar\nPurrloin\nPurugly\nPyroar\nPyukumuku\nQuagsire\nQuilava\nQuilladin\nQwilfish\nRaboot\nRaichu\nRaikou\nRalts\nRampardos\nRapidash\nRaticate\nRattata\nRayquaza\nRegice\nRegidrago\nRegieleki\nRegigigas\nRegirock\nRegisteel\nRelicanth\nRemoraid\nReshiram\nReuniclus\nRhydon\nRhyhorn\nRhyperior\nRibombee\nRillaboom\nRiolu\nRockruff\nRoggenrola\nRolycoly\nRookidee\nRoselia\nRoserade\nRotom\nRowlet\nRufflet\nRunerigus\nSableye\nSalamence\nSalandit\nSalazzle\nSamurott\nSandaconda\nSandile\nSandshrew\nSandslash\nSandygast\nSawk\nSawsbuck\nScatterbug\nSceptile\nScizor\nScolipede\nScorbunny\nScrafty\nScraggy\nScyther\nSeadra\nSeaking\nSealeo\nSeedot\nSeel\nSeismitoad\nSentret\nSerperior\nServine\nSeviper\nSewaddle\nSharpedo\nShaymin\nShedinja\nShelgon\nShellder\nShellos\nShelmet\nShieldon\nShiftry\nShiinotic\nShinx\nShroomish\nShuckle\nShuppet\nSigilyph\nSilcoon\nSilicobra\nSilvally\nSimipour\nSimisage\nSimisear\nSinistea\nSirfetch'd\nSizzlipede\nSkarmory\nSkiddo\nSkiploom\nSkitty\nSkorupi\nSkrelp\nSkuntank\nSkwovet\nSlaking\nSlakoth\nSliggoo\nSlowbro\nSlowking\nSlowpoke\nSlugma\nSlurpuff\nSmeargle\nSmoochum\nSneasel\nSnivy\nSnom\nSnorlax\nSnorunt\nSnover\nSnubbull\nSobble\nSolgaleo\nSolosis\nSolrock\nSpearow\nSpectrier\nSpewpa\nSpheal\nSpinarak\nSpinda\nSpiritomb\nSpoink\nSpritzee\nSquirtle\nStakataka\nStantler\nStaraptor\nStaravia\nStarly\nStarmie\nStaryu\nSteelix\nSteenee\nStonjourner\nStoutland\nStufful\nStunfisk\nStunky\nSudowoodo\nSuicune\nSunflora\nSunkern\nSurskit\nSwablu\nSwadloon\nSwalot\nSwampert\nSwanna\nSwellow\nSwinub\nSwirlix\nSwoobat\nSylveon\nTaillow\nTalonflame\nTangela\nTangrowth\nTapu Bulu\nTapu Fini\nTapu Koko\nTapu Lele\nTauros\nTeddiursa\nTentacool\nTentacruel\nTepig\nTerrakion\nThievul\nThroh\nThundurus\nThwackey\nTimburr\nTirtouga\nTogedemaru\nTogekiss\nTogepi\nTogetic\nTorchic\nTorkoal\nTornadus\nTorracat\nTorterra\nTotodile\nToucannon\nToxapex\nToxel\nToxicroak\nToxtricity\nTranquill\nTrapinch\nTreecko\nTrevenant\nTropius\nTrubbish\nTrumbeak\nTsareena\nTurtonator\nTurtwig\nTympole\nTynamo\nType: Null\nTyphlosion\nTyranitar\nTyrantrum\nTyrogue\nTyrunt\nUmbreon\nUnfezant\nUnown\nUrsaring\nUrshifu\nUxie\nVanillish\nVanillite\nVanilluxe\nVaporeon\nVenipede\nVenomoth\nVenonat\nVenusaur\nVespiquen\nVibrava\nVictini\nVictreebel\nVigoroth\nVikavolt\nVileplume\nVirizion\nVivillon\nVolbeat\nVolcanion\nVolcarona\nVoltorb\nVullaby\nVulpix\nWailmer\nWailord\nWalrein\nWartortle\nWatchog\nWeavile\nWeedle\nWeepinbell\nWeezing\nWhimsicott\nWhirlipede\nWhiscash\nWhismur\nWigglytuff\nWimpod\nWingull\nWishiwashi\nWobbuffet\nWoobat\nWooloo\nWooper\nWormadam\nWurmple\nWynaut\nXatu\nXerneas\nXurkitree\nYamask\nYamper\nYanma\nYanmega\nYungoos\nYveltal\nZacian\nZamazenta\nZangoose\nZapdos\nZarude\nZebstrika\nZekrom\nZeraora\nZigzagoon\nZoroark\nZorua\nZubat\nZweilous\nZygarde\n"
     ]
    }
   ],
   "source": [
    "for name in allPoke:\n",
    "    print(name.contents[0])"
   ]
  },
  {
   "cell_type": "code",
   "execution_count": null,
   "metadata": {},
   "outputs": [],
   "source": []
  }
 ]
}